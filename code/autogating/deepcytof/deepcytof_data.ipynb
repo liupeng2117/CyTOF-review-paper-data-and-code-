{
 "cells": [
  {
   "cell_type": "code",
   "execution_count": 43,
   "metadata": {},
   "outputs": [],
   "source": [
    "'''\n",
    "This script will train a feed-forward neural network classifier to 25% of each\n",
    "single subject in each data set of FlowCAP-I, and test the performance with the\n",
    "remaining 75%. There are five data sets in FloWCAP-I: (1) NDD, (2) CFSE,\n",
    "(3) StemCell, (4) Lymph, and (5) GvHD. The result of the mean and confidence\n",
    "interval for each data set are\n",
    "NDD ,  0.988706262232  ( 0.987414050849 0.989854916232 )\n",
    "CFSE ,  0.999101182371  ( 0.998878315234 0.999307970954 )\n",
    "StemCell ,  0.991351650942  ( 0.988360255002 0.993995231128 )\n",
    "Lymph ,  0.98559997446  ( 0.976240110166 0.993195715049 )\n",
    "GvHD ,  0.986439409178  ( 0.979937651836 0.991542823641 )\n",
    "Created on Jul 30, 2016\n",
    "@author: urishaham, huaminli\n",
    "'''\n",
    "\n",
    "import numpy as np\n",
    "import os.path\n",
    "\n",
    "from Util import DataHandler as dh\n",
    "from Util import FileIO as io\n",
    "from Util import feedforwadClassifier as net"
   ]
  },
  {
   "cell_type": "code",
   "execution_count": 44,
   "metadata": {},
   "outputs": [],
   "source": [
    "'''\n",
    "Parameters.\n",
    "dataSet           - A list of names of FlowCAP-I data sets.\n",
    "numSample         - A list of number of samples in each data set.\n",
    "relevantMarkers   - A list of number of features in each data set.\n",
    "hiddenLayersSizes - A list of 3 numbers to indicate the number of hidden\n",
    "                    nodes in each hidden layer.\n",
    "activation        - The activation function used to construct the classifier.\n",
    "l2_penalty        - The regularization parameter to construct the classifier.\n",
    "'''\n",
    "\n",
    "dataSet = ['data']\n",
    "\n",
    "numSample = [1]\n",
    "relevantMarkers = [21]\n",
    "\n",
    "hiddenLayersSizes = [12, 6, 3]\n",
    "activation = 'softplus'\n",
    "l2_penalty = 1e-4\n"
   ]
  },
  {
   "cell_type": "code",
   "execution_count": 45,
   "metadata": {},
   "outputs": [],
   "source": [
    "'''\n",
    "The user needs to specify the data set to run the cell classifier.\n",
    "Make your choice here - an integer from 0 to 4.\n",
    "0: NDD\n",
    "1: CFSE\n",
    "2: StemCell\n",
    "3: Lymph\n",
    "4: GvHD\n",
    "'''\n",
    "choice = 0\n",
    "\n",
    "# Generate the path of the chosen data set.\n",
    "dataPath = os.path.join('D:/research/Liza/cytof/CyTOF existing methods and challenges/programs/autogating/deepcytof/',\n",
    "                        dataSet[choice])\n",
    "\n",
    "# Generate the output table.\n",
    "acc = np.zeros(numSample[choice])\n",
    "F1 = np.zeros(numSample[choice])"
   ]
  },
  {
   "cell_type": "code",
   "execution_count": 46,
   "metadata": {},
   "outputs": [],
   "source": [
    "import numpy.matlib"
   ]
  },
  {
   "cell_type": "code",
   "execution_count": 49,
   "metadata": {},
   "outputs": [
    {
     "name": "stdout",
     "output_type": "stream",
     "text": [
      "Data set name:  data\n",
      "Load sample  1\n"
     ]
    },
    {
     "name": "stderr",
     "output_type": "stream",
     "text": [
      "C:\\Users\\liupeng2117\\Anaconda3\\lib\\site-packages\\ipykernel_launcher.py:14: DeprecationWarning: time.clock has been deprecated in Python 3.3 and will be removed from Python 3.8: use time.perf_counter or time.process_time instead\n",
      "  \n"
     ]
    },
    {
     "name": "stdout",
     "output_type": "stream",
     "text": [
      "Pre-process sample  1\n",
      "Split data into training and testing.\n",
      "Train a feed-forward neural net classifier on the training data.\n"
     ]
    },
    {
     "data": {
      "image/png": "[encoded data removed]",
      "text/plain": [
       "<Figure size 432x288 with 1 Axes>"
      ]
     },
     "metadata": {
      "needs_background": "light"
     },
     "output_type": "display_data"
    },
    {
     "data": {
      "text/plain": [
       "<Figure size 432x288 with 0 Axes>"
      ]
     },
     "metadata": {},
     "output_type": "display_data"
    },
    {
     "data": {
      "text/plain": [
       "<Figure size 432x288 with 0 Axes>"
      ]
     },
     "metadata": {},
     "output_type": "display_data"
    },
    {
     "data": {
      "text/plain": [
       "<Figure size 432x288 with 0 Axes>"
      ]
     },
     "metadata": {},
     "output_type": "display_data"
    },
    {
     "data": {
      "text/plain": [
       "<Figure size 432x288 with 0 Axes>"
      ]
     },
     "metadata": {},
     "output_type": "display_data"
    },
    {
     "data": {
      "text/plain": [
       "<Figure size 432x288 with 0 Axes>"
      ]
     },
     "metadata": {},
     "output_type": "display_data"
    },
    {
     "data": {
      "text/plain": [
       "<Figure size 432x288 with 0 Axes>"
      ]
     },
     "metadata": {},
     "output_type": "display_data"
    },
    {
     "data": {
      "text/plain": [
       "<Figure size 432x288 with 0 Axes>"
      ]
     },
     "metadata": {},
     "output_type": "display_data"
    },
    {
     "data": {
      "text/plain": [
       "<Figure size 432x288 with 0 Axes>"
      ]
     },
     "metadata": {},
     "output_type": "display_data"
    },
    {
     "data": {
      "text/plain": [
       "<Figure size 432x288 with 0 Axes>"
      ]
     },
     "metadata": {},
     "output_type": "display_data"
    },
    {
     "data": {
      "text/plain": [
       "<Figure size 432x288 with 0 Axes>"
      ]
     },
     "metadata": {},
     "output_type": "display_data"
    },
    {
     "data": {
      "text/plain": [
       "<Figure size 432x288 with 0 Axes>"
      ]
     },
     "metadata": {},
     "output_type": "display_data"
    },
    {
     "data": {
      "text/plain": [
       "<Figure size 432x288 with 0 Axes>"
      ]
     },
     "metadata": {},
     "output_type": "display_data"
    },
    {
     "data": {
      "text/plain": [
       "<Figure size 432x288 with 0 Axes>"
      ]
     },
     "metadata": {},
     "output_type": "display_data"
    },
    {
     "data": {
      "text/plain": [
       "<Figure size 432x288 with 0 Axes>"
      ]
     },
     "metadata": {},
     "output_type": "display_data"
    },
    {
     "data": {
      "text/plain": [
       "<Figure size 432x288 with 0 Axes>"
      ]
     },
     "metadata": {},
     "output_type": "display_data"
    },
    {
     "data": {
      "text/plain": [
       "<Figure size 432x288 with 0 Axes>"
      ]
     },
     "metadata": {},
     "output_type": "display_data"
    },
    {
     "data": {
      "text/plain": [
       "<Figure size 432x288 with 0 Axes>"
      ]
     },
     "metadata": {},
     "output_type": "display_data"
    },
    {
     "data": {
      "text/plain": [
       "<Figure size 432x288 with 0 Axes>"
      ]
     },
     "metadata": {},
     "output_type": "display_data"
    },
    {
     "data": {
      "text/plain": [
       "<Figure size 432x288 with 0 Axes>"
      ]
     },
     "metadata": {},
     "output_type": "display_data"
    },
    {
     "data": {
      "text/plain": [
       "<Figure size 432x288 with 0 Axes>"
      ]
     },
     "metadata": {},
     "output_type": "display_data"
    },
    {
     "data": {
      "text/plain": [
       "<Figure size 432x288 with 0 Axes>"
      ]
     },
     "metadata": {},
     "output_type": "display_data"
    },
    {
     "data": {
      "text/plain": [
       "<Figure size 432x288 with 0 Axes>"
      ]
     },
     "metadata": {},
     "output_type": "display_data"
    },
    {
     "data": {
      "text/plain": [
       "<Figure size 432x288 with 0 Axes>"
      ]
     },
     "metadata": {},
     "output_type": "display_data"
    },
    {
     "data": {
      "text/plain": [
       "<Figure size 432x288 with 0 Axes>"
      ]
     },
     "metadata": {},
     "output_type": "display_data"
    },
    {
     "data": {
      "text/plain": [
       "<Figure size 432x288 with 0 Axes>"
      ]
     },
     "metadata": {},
     "output_type": "display_data"
    },
    {
     "data": {
      "text/plain": [
       "<Figure size 432x288 with 0 Axes>"
      ]
     },
     "metadata": {},
     "output_type": "display_data"
    },
    {
     "data": {
      "text/plain": [
       "<Figure size 432x288 with 0 Axes>"
      ]
     },
     "metadata": {},
     "output_type": "display_data"
    },
    {
     "data": {
      "text/plain": [
       "<Figure size 432x288 with 0 Axes>"
      ]
     },
     "metadata": {},
     "output_type": "display_data"
    },
    {
     "data": {
      "text/plain": [
       "<Figure size 432x288 with 0 Axes>"
      ]
     },
     "metadata": {},
     "output_type": "display_data"
    },
    {
     "data": {
      "text/plain": [
       "<Figure size 432x288 with 0 Axes>"
      ]
     },
     "metadata": {},
     "output_type": "display_data"
    },
    {
     "data": {
      "text/plain": [
       "<Figure size 432x288 with 0 Axes>"
      ]
     },
     "metadata": {},
     "output_type": "display_data"
    },
    {
     "data": {
      "text/plain": [
       "<Figure size 432x288 with 0 Axes>"
      ]
     },
     "metadata": {},
     "output_type": "display_data"
    },
    {
     "data": {
      "text/plain": [
       "<Figure size 432x288 with 0 Axes>"
      ]
     },
     "metadata": {},
     "output_type": "display_data"
    },
    {
     "data": {
      "text/plain": [
       "<Figure size 432x288 with 0 Axes>"
      ]
     },
     "metadata": {},
     "output_type": "display_data"
    },
    {
     "data": {
      "text/plain": [
       "<Figure size 432x288 with 0 Axes>"
      ]
     },
     "metadata": {},
     "output_type": "display_data"
    },
    {
     "data": {
      "text/plain": [
       "<Figure size 432x288 with 0 Axes>"
      ]
     },
     "metadata": {},
     "output_type": "display_data"
    },
    {
     "data": {
      "text/plain": [
       "<Figure size 432x288 with 0 Axes>"
      ]
     },
     "metadata": {},
     "output_type": "display_data"
    },
    {
     "data": {
      "text/plain": [
       "<Figure size 432x288 with 0 Axes>"
      ]
     },
     "metadata": {},
     "output_type": "display_data"
    },
    {
     "data": {
      "text/plain": [
       "<Figure size 432x288 with 0 Axes>"
      ]
     },
     "metadata": {},
     "output_type": "display_data"
    },
    {
     "data": {
      "text/plain": [
       "<Figure size 432x288 with 0 Axes>"
      ]
     },
     "metadata": {},
     "output_type": "display_data"
    },
    {
     "data": {
      "text/plain": [
       "<Figure size 432x288 with 0 Axes>"
      ]
     },
     "metadata": {},
     "output_type": "display_data"
    },
    {
     "data": {
      "text/plain": [
       "<Figure size 432x288 with 0 Axes>"
      ]
     },
     "metadata": {},
     "output_type": "display_data"
    },
    {
     "data": {
      "text/plain": [
       "<Figure size 432x288 with 0 Axes>"
      ]
     },
     "metadata": {},
     "output_type": "display_data"
    },
    {
     "data": {
      "text/plain": [
       "<Figure size 432x288 with 0 Axes>"
      ]
     },
     "metadata": {},
     "output_type": "display_data"
    },
    {
     "data": {
      "text/plain": [
       "<Figure size 432x288 with 0 Axes>"
      ]
     },
     "metadata": {},
     "output_type": "display_data"
    },
    {
     "data": {
      "text/plain": [
       "<Figure size 432x288 with 0 Axes>"
      ]
     },
     "metadata": {},
     "output_type": "display_data"
    },
    {
     "data": {
      "text/plain": [
       "<Figure size 432x288 with 0 Axes>"
      ]
     },
     "metadata": {},
     "output_type": "display_data"
    },
    {
     "data": {
      "text/plain": [
       "<Figure size 432x288 with 0 Axes>"
      ]
     },
     "metadata": {},
     "output_type": "display_data"
    },
    {
     "data": {
      "text/plain": [
       "<Figure size 432x288 with 0 Axes>"
      ]
     },
     "metadata": {},
     "output_type": "display_data"
    },
    {
     "data": {
      "text/plain": [
       "<Figure size 432x288 with 0 Axes>"
      ]
     },
     "metadata": {},
     "output_type": "display_data"
    },
    {
     "data": {
      "text/plain": [
       "<Figure size 432x288 with 0 Axes>"
      ]
     },
     "metadata": {},
     "output_type": "display_data"
    },
    {
     "data": {
      "text/plain": [
       "<Figure size 432x288 with 0 Axes>"
      ]
     },
     "metadata": {},
     "output_type": "display_data"
    },
    {
     "data": {
      "text/plain": [
       "<Figure size 432x288 with 0 Axes>"
      ]
     },
     "metadata": {},
     "output_type": "display_data"
    },
    {
     "data": {
      "text/plain": [
       "<Figure size 432x288 with 0 Axes>"
      ]
     },
     "metadata": {},
     "output_type": "display_data"
    },
    {
     "data": {
      "text/plain": [
       "<Figure size 432x288 with 0 Axes>"
      ]
     },
     "metadata": {},
     "output_type": "display_data"
    },
    {
     "data": {
      "text/plain": [
       "<Figure size 432x288 with 0 Axes>"
      ]
     },
     "metadata": {},
     "output_type": "display_data"
    },
    {
     "data": {
      "text/plain": [
       "<Figure size 432x288 with 0 Axes>"
      ]
     },
     "metadata": {},
     "output_type": "display_data"
    },
    {
     "data": {
      "text/plain": [
       "<Figure size 432x288 with 0 Axes>"
      ]
     },
     "metadata": {},
     "output_type": "display_data"
    },
    {
     "data": {
      "text/plain": [
       "<Figure size 432x288 with 0 Axes>"
      ]
     },
     "metadata": {},
     "output_type": "display_data"
    },
    {
     "data": {
      "text/plain": [
       "<Figure size 432x288 with 0 Axes>"
      ]
     },
     "metadata": {},
     "output_type": "display_data"
    },
    {
     "data": {
      "text/plain": [
       "<Figure size 432x288 with 0 Axes>"
      ]
     },
     "metadata": {},
     "output_type": "display_data"
    },
    {
     "data": {
      "text/plain": [
       "<Figure size 432x288 with 0 Axes>"
      ]
     },
     "metadata": {},
     "output_type": "display_data"
    },
    {
     "data": {
      "text/plain": [
       "<Figure size 432x288 with 0 Axes>"
      ]
     },
     "metadata": {},
     "output_type": "display_data"
    },
    {
     "data": {
      "text/plain": [
       "<Figure size 432x288 with 0 Axes>"
      ]
     },
     "metadata": {},
     "output_type": "display_data"
    },
    {
     "data": {
      "text/plain": [
       "<Figure size 432x288 with 0 Axes>"
      ]
     },
     "metadata": {},
     "output_type": "display_data"
    },
    {
     "data": {
      "text/plain": [
       "<Figure size 432x288 with 0 Axes>"
      ]
     },
     "metadata": {},
     "output_type": "display_data"
    },
    {
     "data": {
      "text/plain": [
       "<Figure size 432x288 with 0 Axes>"
      ]
     },
     "metadata": {},
     "output_type": "display_data"
    },
    {
     "data": {
      "text/plain": [
       "<Figure size 432x288 with 0 Axes>"
      ]
     },
     "metadata": {},
     "output_type": "display_data"
    },
    {
     "data": {
      "text/plain": [
       "<Figure size 432x288 with 0 Axes>"
      ]
     },
     "metadata": {},
     "output_type": "display_data"
    },
    {
     "data": {
      "text/plain": [
       "<Figure size 432x288 with 0 Axes>"
      ]
     },
     "metadata": {},
     "output_type": "display_data"
    },
    {
     "data": {
      "text/plain": [
       "<Figure size 432x288 with 0 Axes>"
      ]
     },
     "metadata": {},
     "output_type": "display_data"
    },
    {
     "data": {
      "text/plain": [
       "<Figure size 432x288 with 0 Axes>"
      ]
     },
     "metadata": {},
     "output_type": "display_data"
    },
    {
     "data": {
      "text/plain": [
       "<Figure size 432x288 with 0 Axes>"
      ]
     },
     "metadata": {},
     "output_type": "display_data"
    },
    {
     "data": {
      "text/plain": [
       "<Figure size 432x288 with 0 Axes>"
      ]
     },
     "metadata": {},
     "output_type": "display_data"
    },
    {
     "data": {
      "text/plain": [
       "<Figure size 432x288 with 0 Axes>"
      ]
     },
     "metadata": {},
     "output_type": "display_data"
    },
    {
     "data": {
      "text/plain": [
       "<Figure size 432x288 with 0 Axes>"
      ]
     },
     "metadata": {},
     "output_type": "display_data"
    },
    {
     "data": {
      "text/plain": [
       "<Figure size 432x288 with 0 Axes>"
      ]
     },
     "metadata": {},
     "output_type": "display_data"
    },
    {
     "data": {
      "text/plain": [
       "<Figure size 432x288 with 0 Axes>"
      ]
     },
     "metadata": {},
     "output_type": "display_data"
    },
    {
     "data": {
      "text/plain": [
       "<Figure size 432x288 with 0 Axes>"
      ]
     },
     "metadata": {},
     "output_type": "display_data"
    },
    {
     "name": "stdout",
     "output_type": "stream",
     "text": [
      "Run the classifier on the testing data.\n",
      "sample  1\n",
      "accuracy:  96.63 %\n",
      "F-measure:  96.61\n",
      "confusion matrix:\n",
      " [[   35    94    34   725   156   117   103   513   507    17   185   269\n",
      "    257   298   537   923   170   677   302   752  1297]\n",
      " [    0  6201    95     0     2     8    13     0     0    17     0     0\n",
      "      0     0     0     0     0     0     0     1     0]\n",
      " [    0   110  1158     0     0     0     1     0     0     9     0     0\n",
      "      0     0     1     0     0     0     0    15     0]\n",
      " [    0     0     0 16296    29     0     0     0    10     1    23     0\n",
      "      0     0     3     0     0     0     1     0     0]\n",
      " [    0     0     0    96  3633    66     0     1     0     0    13     0\n",
      "      0     0     0     0     0     0     0     0     0]\n",
      " [    0    12     0     0    63  1895     1     0     0     0     7     0\n",
      "      0     0     0     0     0     0     0     0     0]\n",
      " [    0     8     0     0     0     0   524    10     0     8     6     0\n",
      "      0     0     0     0     0     0     0     0     0]\n",
      " [    0     0     0     0     1     0     5  1635    51     1    14     0\n",
      "      0     0     4     0     0     0     0     3    12]\n",
      " [    0     0     0     1     1     0     0    61  5599     0     0     0\n",
      "      0     0    11     0     0     0     0     0    11]\n",
      " [    0    30     7     0     0     0    12     1     0   138     1     0\n",
      "      0     0     2     0     0     0     0     0     0]\n",
      " [    0     0     0    26     6     0    29    15     7     0   594     0\n",
      "      0     0     0     0     0     0     0     0     0]\n",
      " [    0     0     0     0     0     0     0     0     0     0     0  6020\n",
      "     36    12     1     0     0     0     0     8     0]\n",
      " [    0     0     0     0     0     0     0     0     0     0     0    46\n",
      "    273    63     5     1     0     6     1     5     0]\n",
      " [    0     0     0     0     0     0     0     0     0     0     0    17\n",
      "     45  1743    28     0     0    10     0   114    14]\n",
      " [    0     1     0     0     0     0     0     1     6     1     0     0\n",
      "      0    36  1311     0     0     1     1    75     1]\n",
      " [    0     0     0     0     0     0     0     0     0     0     0     8\n",
      "      1     0     0 12523   111     4     3     0     0]\n",
      " [    0     0     0     0     0     0     0     0     0     0     0     0\n",
      "      1     0     0   163  3764   330    40     0     0]\n",
      " [    0     0     0     0     0     0     0     0     0     0     0     0\n",
      "      1     5     0     4   148  8704   116     0    15]\n",
      " [    0     0     0     0     0     0     0     0     3     0     0     0\n",
      "      0     0     2     0    12   106  3349     0     1]\n",
      " [    0     0     0     0     0     0     0     0     0     0     0    13\n",
      "      1    43    57     0     0     2     1  3752    20]\n",
      " [    0     0     0     0     0     0     1     8    16     0     0     1\n",
      "      0    28     7     0     0     3     0    25  2558]]\n"
     ]
    },
    {
     "name": "stderr",
     "output_type": "stream",
     "text": [
      "C:\\Users\\liupeng2117\\Anaconda3\\lib\\Util\\feedforwadClassifier.py:65: RuntimeWarning: invalid value encountered in true_divide\n",
      "  F = np.divide(2 * np.multiply(Pr, Re), Pr + Re)\n",
      "C:\\Users\\liupeng2117\\Anaconda3\\lib\\site-packages\\ipykernel_launcher.py:35: DeprecationWarning: time.clock has been deprecated in Python 3.3 and will be removed from Python 3.8: use time.perf_counter or time.process_time instead\n"
     ]
    }
   ],
   "source": [
    "'''\n",
    "For each single sample of the chosen data set, train a feed-forward neural\n",
    "net classifier using 25% of cells, and test the performance using the rest\n",
    "75% of cells.\n",
    "'''\n",
    "import time\n",
    "print('Data set name: ', dataSet[choice])\n",
    "for i in range(numSample[choice]):\n",
    "    # Load sample.\n",
    "    print('Load sample ', str(i+1))\n",
    "    sample = dh.loadDeepCyTOFData(dataPath, i + 1,\n",
    "                                  range(relevantMarkers[choice]), 'CSV',\n",
    "                                  skip_header = 1) \n",
    "    tic = time.clock()\n",
    "    # Pre-process sample.\n",
    "    print('Pre-process sample ', str(i+1))\n",
    "    sample = dh.preProcessSamplesCyTOFData(sample)\n",
    "    sample, preprocessor = dh.standard_scale(sample, preprocessor = None)\n",
    "    \n",
    "    # Split data into training and testing.\n",
    "    print('Split data into training and testing.')\n",
    "    trainSample, testSample = dh.splitData(sample, test_size = .5)\n",
    "    \n",
    "    # Train a feed-forward neural net classifier on the training data.\n",
    "    print('Train a feed-forward neural net classifier on the training data.')\n",
    "    classifier = net.trainClassifier(trainSample, dataSet[choice], i,\n",
    "                                     hiddenLayersSizes,\n",
    "                                     activation = activation,\n",
    "                                     l2_penalty = l2_penalty)\n",
    "    \n",
    "    # Run the classifier on the testing data.\n",
    "    print('Run the classifier on the testing data.')\n",
    "    acc[i-1], F1[i-1], y_test_pred = net.prediction(testSample, # line 159 of prediction function in feedforwardClassifier.py, I added y_test\n",
    "                                                                dataSet[choice], i, classifier)\n",
    "    toc = time.clock()\n",
    "    process_time = toc - tic"
   ]
  },
  {
   "cell_type": "code",
   "execution_count": 51,
   "metadata": {},
   "outputs": [
    {
     "name": "stdout",
     "output_type": "stream",
     "text": [
      "81.63791670000046\n"
     ]
    }
   ],
   "source": [
    "import pandas as pd\n",
    "print(process_time)\n",
    "y_test_true = np.int_(testSample.y)\n",
    "resultdf=pd.DataFrame(y_test_pred,y_test_true, ['predicted'])\n",
    "resultdf.to_csv(\"D:/research/Liza/cytof/CyTOF existing methods and challenges/programs/autogating/deepcytof/result.csv\")"
   ]
  },
  {
   "cell_type": "code",
   "execution_count": 48,
   "metadata": {},
   "outputs": [
    {
     "data": {
      "text/plain": [
       "<module 'ntpath' from 'C:\\\\Users\\\\liupeng2117\\\\Anaconda3\\\\lib\\\\ntpath.py'>"
      ]
     },
     "execution_count": 48,
     "metadata": {},
     "output_type": "execute_result"
    }
   ],
   "source": []
  },
  {
   "cell_type": "code",
   "execution_count": null,
   "metadata": {},
   "outputs": [],
   "source": []
  }
 ],
 "metadata": {
  "kernelspec": {
   "display_name": "Python 3",
   "language": "python",
   "name": "python3"
  },
  "language_info": {
   "codemirror_mode": {
    "name": "ipython",
    "version": 3
   },
   "file_extension": ".py",
   "mimetype": "text/x-python",
   "name": "python",
   "nbconvert_exporter": "python",
   "pygments_lexer": "ipython3",
   "version": "3.7.3"
  }
 },
 "nbformat": 4,
 "nbformat_minor": 4
}
